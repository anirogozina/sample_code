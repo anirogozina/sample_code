{
 "cells": [
  {
   "cell_type": "code",
   "execution_count": 1,
   "metadata": {},
   "outputs": [],
   "source": [
    "import artm\n",
    "import json\n",
    "from collections import Counter"
   ]
  },
  {
   "cell_type": "markdown",
   "metadata": {},
   "source": [
    "## Подготавливаем данные в формате vw"
   ]
  },
  {
   "cell_type": "code",
   "execution_count": 11,
   "metadata": {},
   "outputs": [
    {
     "name": "stderr",
     "output_type": "stream",
     "text": [
      "/home/anirogozina/artm/lib/python3.7/site-packages/ipykernel/ipkernel.py:283: DeprecationWarning: `should_run_async` will not call `transform_cell` automatically in the future. Please pass the result to `transformed_cell` argument and any exception that happen during thetransform in `preprocessing_exc_tuple` in IPython 7.17 and above.\n",
      "  and should_run_async(code)\n"
     ]
    }
   ],
   "source": [
    "def get_words_freq(lines):\n",
    "    counter_title = Counter()\n",
    "    counter_text = Counter()\n",
    "    common_counter = Counter()\n",
    "    for line in lines:\n",
    "        doc = json.loads(line)\n",
    "        for word in doc['text'].split(\" \"):\n",
    "            counter_text[word] += 1\n",
    "            common_counter[word] += 1\n",
    "        for word in doc['title'].split(\" \"):\n",
    "            counter_title[word] += 1\n",
    "            common_counter[word] += 1\n",
    "    return counter_text, counter_title, common_counter"
   ]
  },
  {
   "cell_type": "code",
   "execution_count": 12,
   "metadata": {},
   "outputs": [],
   "source": [
    "from sklearn.model_selection import train_test_split"
   ]
  },
  {
   "cell_type": "code",
   "execution_count": 13,
   "metadata": {},
   "outputs": [],
   "source": [
    "def prepare_data(input_file, output_train_file, output_validation_file):\n",
    "    documents = []\n",
    "    labels = []\n",
    "    file = open(input_file)\n",
    "    lines = file.read()\n",
    "    file.close()\n",
    "    lines = lines.split(\"\\n\")\n",
    "    lines = lines[:-1]\n",
    "    counter_text, counter_title, common_counter = get_words_freq(lines)\n",
    "    for i, line in enumerate(lines):\n",
    "        doc = json.loads(line)\n",
    "        documents.append(doc['text'])\n",
    "        labels.append(doc['label'])\n",
    "    train_docs, validation_docs, train_labels, validation_labels = train_test_split(\n",
    "        documents, labels,test_size=0.3, random_state=42, stratify=labels)\n",
    "    file = open(output_train_file, \"w\")\n",
    "    for i, document in enumerate(train_docs):\n",
    "        st = \"doc\" + str(i) + \" |@default_class \"\n",
    "        st += document\n",
    "        st += \" |@label \"\n",
    "        st += str(train_labels[i])\n",
    "        file.write(st + \"\\n\")\n",
    "    file.close()\n",
    "    file = open(output_validation_file, \"w\")\n",
    "    for i, document in enumerate(validation_docs):\n",
    "        st = \"doc\" + str(i) + \" |@default_class \"\n",
    "        st += document\n",
    "        st += \" |@label \"\n",
    "        st += str(validation_labels[i])\n",
    "        file.write(st + \"\\n\")\n",
    "    file.close()\n",
    "    return train_docs, validation_docs, train_labels, validation_labels"
   ]
  },
  {
   "cell_type": "code",
   "execution_count": 14,
   "metadata": {},
   "outputs": [],
   "source": [
    "train_docs, validation_docs, train_labels, validation_labels = prepare_data(\n",
    "    'data/train', 'data/prepared_train.wv', 'data/prepared_validation.wv')"
   ]
  },
  {
   "cell_type": "code",
   "execution_count": 6,
   "metadata": {},
   "outputs": [
    {
     "name": "stderr",
     "output_type": "stream",
     "text": [
      "/home/anirogozina/artm/lib/python3.7/site-packages/ipykernel/ipkernel.py:283: DeprecationWarning: `should_run_async` will not call `transform_cell` automatically in the future. Please pass the result to `transformed_cell` argument and any exception that happen during thetransform in `preprocessing_exc_tuple` in IPython 7.17 and above.\n",
      "  and should_run_async(code)\n"
     ]
    },
    {
     "data": {
      "text/plain": [
       "392000"
      ]
     },
     "execution_count": 6,
     "metadata": {},
     "output_type": "execute_result"
    }
   ],
   "source": [
    "len(train_docs)"
   ]
  },
  {
   "cell_type": "code",
   "execution_count": 7,
   "metadata": {},
   "outputs": [
    {
     "data": {
      "text/plain": [
       "168000"
      ]
     },
     "execution_count": 7,
     "metadata": {},
     "output_type": "execute_result"
    }
   ],
   "source": [
    "len(validation_docs)"
   ]
  },
  {
   "cell_type": "markdown",
   "metadata": {},
   "source": [
    "## Делаем батчи"
   ]
  },
  {
   "cell_type": "code",
   "execution_count": 2,
   "metadata": {},
   "outputs": [
    {
     "name": "stderr",
     "output_type": "stream",
     "text": [
      "/home/anirogozina/artm/lib/python3.7/site-packages/ipykernel/ipkernel.py:283: DeprecationWarning: `should_run_async` will not call `transform_cell` automatically in the future. Please pass the result to `transformed_cell` argument and any exception that happen during thetransform in `preprocessing_exc_tuple` in IPython 7.17 and above.\n",
      "  and should_run_async(code)\n"
     ]
    }
   ],
   "source": [
    "import matplotlib.pyplot as plt\n",
    "%matplotlib inline"
   ]
  },
  {
   "cell_type": "code",
   "execution_count": 2,
   "metadata": {},
   "outputs": [
    {
     "name": "stderr",
     "output_type": "stream",
     "text": [
      "/home/anirogozina/artm/lib/python3.7/site-packages/ipykernel/ipkernel.py:283: DeprecationWarning: `should_run_async` will not call `transform_cell` automatically in the future. Please pass the result to `transformed_cell` argument and any exception that happen during thetransform in `preprocessing_exc_tuple` in IPython 7.17 and above.\n",
      "  and should_run_async(code)\n"
     ]
    }
   ],
   "source": [
    "batch_vectorizer = artm.BatchVectorizer(data_path='data/prepared_train.wv',\n",
    "                                        data_format='vowpal_wabbit',\n",
    "                                        target_folder='artm_batches_train')"
   ]
  },
  {
   "cell_type": "code",
   "execution_count": 3,
   "metadata": {},
   "outputs": [],
   "source": [
    "validation_batch_vectorizer = artm.BatchVectorizer(data_path='data/prepared_validation.wv',\n",
    "                                        data_format='vowpal_wabbit',\n",
    "                                        target_folder='artm_batches_validation')"
   ]
  },
  {
   "cell_type": "code",
   "execution_count": 3,
   "metadata": {},
   "outputs": [
    {
     "name": "stderr",
     "output_type": "stream",
     "text": [
      "/home/anirogozina/artm/lib/python3.7/site-packages/ipykernel/ipkernel.py:283: DeprecationWarning: `should_run_async` will not call `transform_cell` automatically in the future. Please pass the result to `transformed_cell` argument and any exception that happen during thetransform in `preprocessing_exc_tuple` in IPython 7.17 and above.\n",
      "  and should_run_async(code)\n"
     ]
    }
   ],
   "source": [
    "dictionary = artm.Dictionary()\n",
    "dictionary.gather(data_path='artm_batches_train')"
   ]
  },
  {
   "cell_type": "code",
   "execution_count": 4,
   "metadata": {},
   "outputs": [
    {
     "data": {
      "text/plain": [
       "artm.Dictionary(name=fdb2b7c1-5113-4ec9-8d22-551c1b053e9b, num_entries=516743)"
      ]
     },
     "execution_count": 4,
     "metadata": {},
     "output_type": "execute_result"
    }
   ],
   "source": [
    "dictionary"
   ]
  },
  {
   "cell_type": "code",
   "execution_count": 5,
   "metadata": {},
   "outputs": [
    {
     "data": {
      "text/plain": [
       "artm.Dictionary(name=fdb2b7c1-5113-4ec9-8d22-551c1b053e9b, num_entries=182619)"
      ]
     },
     "execution_count": 5,
     "metadata": {},
     "output_type": "execute_result"
    }
   ],
   "source": [
    "dictionary.filter(min_df=2)"
   ]
  },
  {
   "cell_type": "code",
   "execution_count": 31,
   "metadata": {},
   "outputs": [],
   "source": [
    "def create_plsa_model(num_topics, num_iters, batch_vectorizer):\n",
    "    model = artm.ARTM(num_topics=num_topics, num_document_passes=5,cache_theta=True,\n",
    "                      scores=[\n",
    "                    artm.PerplexityScore(name='PerplexityScore', dictionary=dictionary),\n",
    "                    artm.SparsityPhiScore(name='SparsityPhiScore'),\n",
    "                    artm.SparsityThetaScore(name='SparsityThetaScore'),\n",
    "                    artm.scores.TopTokensScore(name='TopTokensScore', dictionary=dictionary, num_tokens=20),\n",
    "                    artm.TopicKernelScore(name='TopicKernelScore', probability_mass_threshold=0.3)])\n",
    "    model.initialize(dictionary)\n",
    "    model.fit_offline(batch_vectorizer=batch_vectorizer, num_collection_passes=num_iters)\n",
    "    return model\n"
   ]
  },
  {
   "cell_type": "code",
   "execution_count": 37,
   "metadata": {},
   "outputs": [
    {
     "name": "stderr",
     "output_type": "stream",
     "text": [
      "/home/anirogozina/artm/lib/python3.7/site-packages/ipykernel/ipkernel.py:283: DeprecationWarning: `should_run_async` will not call `transform_cell` automatically in the future. Please pass the result to `transformed_cell` argument and any exception that happen during thetransform in `preprocessing_exc_tuple` in IPython 7.17 and above.\n",
      "  and should_run_async(code)\n"
     ]
    }
   ],
   "source": [
    "from sklearn.ensemble import RandomForestClassifier, GradientBoostingClassifier\n",
    "from sklearn.neighbors import KNeighborsClassifier\n",
    "from sklearn.linear_model import LogisticRegression\n",
    "from sklearn import svm\n",
    "classifiers = [LogisticRegression(C=100, random_state=42, n_jobs=8, max_iter=10, multi_class='multinomial'),\n",
    "               KNeighborsClassifier(n_neighbors=5, weights='distance', algorithm='brute', n_jobs=8),\n",
    "               RandomForestClassifier(n_estimators=20, n_jobs=8, random_state=42),\n",
    "               GradientBoostingClassifier(n_estimators=20, subsample=1.0, max_depth=4, random_state=42)\n",
    "              ]"
   ]
  },
  {
   "cell_type": "code",
   "execution_count": 38,
   "metadata": {},
   "outputs": [],
   "source": [
    "from sklearn.metrics import f1_score, accuracy_score\n",
    "def get_scores(model, train_labels, validation_batch_vectoriser, validation_labels, classifiers):\n",
    "    train_theta = model.get_theta()\n",
    "    train_theta = train_theta.reindex(sorted(train_theta.columns), axis=1)\n",
    "    validation_theta = model.transform(validation_batch_vectoriser)\n",
    "    validation_theta = validation_theta.reindex(sorted(validation_theta.columns), axis=1)\n",
    "    print(\"build modle and thetas\")\n",
    "    accuracy = []\n",
    "    f1_micro = []\n",
    "    f1_macro = []\n",
    "    for clf in classifiers:\n",
    "        clf.fit(train_theta.values.T, train_labels)\n",
    "        predictions = clf.predict(validation_theta.values.T)\n",
    "        accuracy.append(accuracy_score(predictions, validation_labels))\n",
    "        f1_micro.append(f1_score(predictions, validation_labels, average='micro'))\n",
    "        f1_macro.append(f1_score(predictions, validation_labels, average='macro'))\n",
    "        print('Accuracy: {}, F1(micro): {}, F1(macro): {}'.format(\n",
    "        accuracy_score(predictions, validation_labels), \n",
    "        f1_score(predictions, validation_labels, average='micro'), \n",
    "        f1_score(predictions, validation_labels, average='macro')))\n",
    "    return np.array(accuracy).mean(), np.array(f1_micro).mean(), np.array(f1_macro).mean()"
   ]
  },
  {
   "cell_type": "code",
   "execution_count": null,
   "metadata": {},
   "outputs": [],
   "source": [
    "phi_sparsifier_tau_list = np.array([-5e-2, -0.025, -1e-2, -1e-3, -1e-4, 0])\n",
    "best_model.regularizers.add(artm.SmoothSparsePhiRegularizer(\n",
    "    name='PhiSmoother', tau=0.0, dictionary=dictionary))"
   ]
  },
  {
   "cell_type": "code",
   "execution_count": 7,
   "metadata": {},
   "outputs": [
    {
     "name": "stderr",
     "output_type": "stream",
     "text": [
      "/home/anirogozina/artm/lib/python3.7/site-packages/pkg_resources/_vendor/pyparsing.py:696: DeprecationWarning: Using or importing the ABCs from 'collections' instead of from 'collections.abc' is deprecated, and in 3.8 it will stop working\n",
      "  collections.MutableMapping.register(ParseResults)\n"
     ]
    }
   ],
   "source": [
    "from sklearn.cluster import KMeans"
   ]
  },
  {
   "cell_type": "markdown",
   "metadata": {},
   "source": [
    "## Модель с 20 темами"
   ]
  },
  {
   "cell_type": "code",
   "execution_count": 10,
   "metadata": {},
   "outputs": [],
   "source": [
    "model = create_plsa_model(num_topics=20, num_iters=70)"
   ]
  },
  {
   "cell_type": "code",
   "execution_count": 11,
   "metadata": {},
   "outputs": [
    {
     "name": "stderr",
     "output_type": "stream",
     "text": [
      "/home/anirogozina/artm/lib/python3.7/site-packages/ipykernel/ipkernel.py:283: DeprecationWarning: `should_run_async` will not call `transform_cell` automatically in the future. Please pass the result to `transformed_cell` argument and any exception that happen during thetransform in `preprocessing_exc_tuple` in IPython 7.17 and above.\n",
      "  and should_run_async(code)\n"
     ]
    }
   ],
   "source": [
    "model.regularizers.add(artm.SmoothSparsePhiRegularizer(\n",
    "    name='PhiSmoother', tau=1e-4, dictionary=dictionary))"
   ]
  },
  {
   "cell_type": "code",
   "execution_count": 12,
   "metadata": {},
   "outputs": [],
   "source": [
    "model.save(\"plsa_phi_first\")"
   ]
  },
  {
   "cell_type": "code",
   "execution_count": 13,
   "metadata": {},
   "outputs": [],
   "source": [
    "model.fit_offline(batch_vectorizer=batch_vectorizer, num_collection_passes=30)"
   ]
  },
  {
   "cell_type": "code",
   "execution_count": 14,
   "metadata": {},
   "outputs": [
    {
     "name": "stderr",
     "output_type": "stream",
     "text": [
      "/home/anirogozina/artm/lib/python3.7/site-packages/ipykernel/ipkernel.py:283: DeprecationWarning: `should_run_async` will not call `transform_cell` automatically in the future. Please pass the result to `transformed_cell` argument and any exception that happen during thetransform in `preprocessing_exc_tuple` in IPython 7.17 and above.\n",
      "  and should_run_async(code)\n"
     ]
    },
    {
     "data": {
      "text/plain": [
       "{'PerplexityScore': <artm.score_tracker.PerplexityScoreTracker at 0x7f4358a57400>,\n",
       " 'SparsityPhiScore': <artm.score_tracker.SparsityPhiScoreTracker at 0x7f4358a57160>,\n",
       " 'SparsityThetaScore': <artm.score_tracker.SparsityThetaScoreTracker at 0x7f4358a573c8>,\n",
       " 'TopTokensScore': <artm.score_tracker.TopTokensScoreTracker at 0x7f4358a57668>,\n",
       " 'TopicKernelScore': <artm.score_tracker.TopicKernelScoreTracker at 0x7f4358a576a0>}"
      ]
     },
     "execution_count": 14,
     "metadata": {},
     "output_type": "execute_result"
    }
   ],
   "source": [
    "model.score_tracker"
   ]
  },
  {
   "cell_type": "code",
   "execution_count": 17,
   "metadata": {},
   "outputs": [
    {
     "name": "stderr",
     "output_type": "stream",
     "text": [
      "/home/anirogozina/artm/lib/python3.7/site-packages/ipykernel/ipkernel.py:283: DeprecationWarning: `should_run_async` will not call `transform_cell` automatically in the future. Please pass the result to `transformed_cell` argument and any exception that happen during thetransform in `preprocessing_exc_tuple` in IPython 7.17 and above.\n",
      "  and should_run_async(code)\n"
     ]
    },
    {
     "data": {
      "text/plain": [
       "[<matplotlib.lines.Line2D at 0x7f4344152470>]"
      ]
     },
     "execution_count": 17,
     "metadata": {},
     "output_type": "execute_result"
    },
    {
     "data": {
      "image/png": "[encoded data removed]",
      "text/plain": [
       "<Figure size 432x288 with 1 Axes>"
      ]
     },
     "metadata": {
      "needs_background": "light"
     },
     "output_type": "display_data"
    }
   ],
   "source": [
    "plt.plot(model.score_tracker['SparsityPhiScore'].value[50:])"
   ]
  },
  {
   "cell_type": "code",
   "execution_count": 18,
   "metadata": {},
   "outputs": [],
   "source": [
    "model.save(\"plsa_phi_first\")"
   ]
  },
  {
   "cell_type": "code",
   "execution_count": 9,
   "metadata": {},
   "outputs": [
    {
     "name": "stderr",
     "output_type": "stream",
     "text": [
      "/home/anirogozina/artm/lib/python3.7/site-packages/pkg_resources/_vendor/pyparsing.py:696: DeprecationWarning: Using or importing the ABCs from 'collections' instead of from 'collections.abc' is deprecated, and in 3.8 it will stop working\n",
      "  collections.MutableMapping.register(ParseResults)\n"
     ]
    }
   ],
   "source": [
    "from sklearn.cluster import KMeans"
   ]
  },
  {
   "cell_type": "code",
   "execution_count": 20,
   "metadata": {},
   "outputs": [],
   "source": [
    "phi = model.get_phi()"
   ]
  },
  {
   "cell_type": "code",
   "execution_count": 21,
   "metadata": {},
   "outputs": [
    {
     "data": {
      "text/html": [
       "<div>\n",
       "<style scoped>\n",
       "    .dataframe tbody tr th:only-of-type {\n",
       "        vertical-align: middle;\n",
       "    }\n",
       "\n",
       "    .dataframe tbody tr th {\n",
       "        vertical-align: top;\n",
       "    }\n",
       "\n",
       "    .dataframe thead th {\n",
       "        text-align: right;\n",
       "    }\n",
       "</style>\n",
       "<table border=\"1\" class=\"dataframe\">\n",
       "  <thead>\n",
       "    <tr style=\"text-align: right;\">\n",
       "      <th></th>\n",
       "      <th>topic_0</th>\n",
       "      <th>topic_1</th>\n",
       "      <th>topic_2</th>\n",
       "      <th>topic_3</th>\n",
       "      <th>topic_4</th>\n",
       "      <th>topic_5</th>\n",
       "      <th>topic_6</th>\n",
       "      <th>topic_7</th>\n",
       "      <th>topic_8</th>\n",
       "      <th>topic_9</th>\n",
       "      <th>topic_10</th>\n",
       "      <th>topic_11</th>\n",
       "      <th>topic_12</th>\n",
       "      <th>topic_13</th>\n",
       "      <th>topic_14</th>\n",
       "      <th>topic_15</th>\n",
       "      <th>topic_16</th>\n",
       "      <th>topic_17</th>\n",
       "      <th>topic_18</th>\n",
       "      <th>topic_19</th>\n",
       "    </tr>\n",
       "  </thead>\n",
       "  <tbody>\n",
       "    <tr>\n",
       "      <th>caddick</th>\n",
       "      <td>0.000000e+00</td>\n",
       "      <td>0.000000e+00</td>\n",
       "      <td>0.000000e+00</td>\n",
       "      <td>0.000000e+00</td>\n",
       "      <td>2.378758e-06</td>\n",
       "      <td>0.000000e+00</td>\n",
       "      <td>0.000000e+00</td>\n",
       "      <td>0.000000e+00</td>\n",
       "      <td>0.000000e+00</td>\n",
       "      <td>0.000000e+00</td>\n",
       "      <td>0.000000e+00</td>\n",
       "      <td>2.860630e-06</td>\n",
       "      <td>0.000000e+00</td>\n",
       "      <td>0.000000e+00</td>\n",
       "      <td>0.000000e+00</td>\n",
       "      <td>0.000000e+00</td>\n",
       "      <td>0.000000e+00</td>\n",
       "      <td>0.000000e+00</td>\n",
       "      <td>0.000000e+00</td>\n",
       "      <td>0.000000e+00</td>\n",
       "    </tr>\n",
       "    <tr>\n",
       "      <th>zunil</th>\n",
       "      <td>0.000000e+00</td>\n",
       "      <td>0.000000e+00</td>\n",
       "      <td>1.965728e-06</td>\n",
       "      <td>0.000000e+00</td>\n",
       "      <td>0.000000e+00</td>\n",
       "      <td>0.000000e+00</td>\n",
       "      <td>0.000000e+00</td>\n",
       "      <td>0.000000e+00</td>\n",
       "      <td>0.000000e+00</td>\n",
       "      <td>0.000000e+00</td>\n",
       "      <td>0.000000e+00</td>\n",
       "      <td>0.000000e+00</td>\n",
       "      <td>0.000000e+00</td>\n",
       "      <td>0.000000e+00</td>\n",
       "      <td>0.000000e+00</td>\n",
       "      <td>1.089062e-06</td>\n",
       "      <td>0.000000e+00</td>\n",
       "      <td>0.000000e+00</td>\n",
       "      <td>0.000000e+00</td>\n",
       "      <td>0.000000e+00</td>\n",
       "    </tr>\n",
       "    <tr>\n",
       "      <th>lindland</th>\n",
       "      <td>0.000000e+00</td>\n",
       "      <td>0.000000e+00</td>\n",
       "      <td>0.000000e+00</td>\n",
       "      <td>0.000000e+00</td>\n",
       "      <td>4.757342e-06</td>\n",
       "      <td>0.000000e+00</td>\n",
       "      <td>0.000000e+00</td>\n",
       "      <td>0.000000e+00</td>\n",
       "      <td>0.000000e+00</td>\n",
       "      <td>0.000000e+00</td>\n",
       "      <td>0.000000e+00</td>\n",
       "      <td>0.000000e+00</td>\n",
       "      <td>0.000000e+00</td>\n",
       "      <td>0.000000e+00</td>\n",
       "      <td>0.000000e+00</td>\n",
       "      <td>0.000000e+00</td>\n",
       "      <td>0.000000e+00</td>\n",
       "      <td>0.000000e+00</td>\n",
       "      <td>0.000000e+00</td>\n",
       "      <td>0.000000e+00</td>\n",
       "    </tr>\n",
       "    <tr>\n",
       "      <th>hailan</th>\n",
       "      <td>0.000000e+00</td>\n",
       "      <td>0.000000e+00</td>\n",
       "      <td>0.000000e+00</td>\n",
       "      <td>0.000000e+00</td>\n",
       "      <td>0.000000e+00</td>\n",
       "      <td>2.358587e-16</td>\n",
       "      <td>0.000000e+00</td>\n",
       "      <td>0.000000e+00</td>\n",
       "      <td>0.000000e+00</td>\n",
       "      <td>0.000000e+00</td>\n",
       "      <td>0.000000e+00</td>\n",
       "      <td>0.000000e+00</td>\n",
       "      <td>0.000000e+00</td>\n",
       "      <td>0.000000e+00</td>\n",
       "      <td>0.000000e+00</td>\n",
       "      <td>1.372664e-06</td>\n",
       "      <td>0.000000e+00</td>\n",
       "      <td>0.000000e+00</td>\n",
       "      <td>1.837891e-06</td>\n",
       "      <td>0.000000e+00</td>\n",
       "    </tr>\n",
       "    <tr>\n",
       "      <th>oddlooking</th>\n",
       "      <td>0.000000e+00</td>\n",
       "      <td>0.000000e+00</td>\n",
       "      <td>0.000000e+00</td>\n",
       "      <td>0.000000e+00</td>\n",
       "      <td>0.000000e+00</td>\n",
       "      <td>0.000000e+00</td>\n",
       "      <td>0.000000e+00</td>\n",
       "      <td>0.000000e+00</td>\n",
       "      <td>0.000000e+00</td>\n",
       "      <td>0.000000e+00</td>\n",
       "      <td>0.000000e+00</td>\n",
       "      <td>0.000000e+00</td>\n",
       "      <td>0.000000e+00</td>\n",
       "      <td>0.000000e+00</td>\n",
       "      <td>0.000000e+00</td>\n",
       "      <td>2.745672e-06</td>\n",
       "      <td>0.000000e+00</td>\n",
       "      <td>0.000000e+00</td>\n",
       "      <td>0.000000e+00</td>\n",
       "      <td>0.000000e+00</td>\n",
       "    </tr>\n",
       "    <tr>\n",
       "      <th>...</th>\n",
       "      <td>...</td>\n",
       "      <td>...</td>\n",
       "      <td>...</td>\n",
       "      <td>...</td>\n",
       "      <td>...</td>\n",
       "      <td>...</td>\n",
       "      <td>...</td>\n",
       "      <td>...</td>\n",
       "      <td>...</td>\n",
       "      <td>...</td>\n",
       "      <td>...</td>\n",
       "      <td>...</td>\n",
       "      <td>...</td>\n",
       "      <td>...</td>\n",
       "      <td>...</td>\n",
       "      <td>...</td>\n",
       "      <td>...</td>\n",
       "      <td>...</td>\n",
       "      <td>...</td>\n",
       "      <td>...</td>\n",
       "    </tr>\n",
       "    <tr>\n",
       "      <th>schiffbaugesellschaft</th>\n",
       "      <td>2.866260e-16</td>\n",
       "      <td>1.515625e-16</td>\n",
       "      <td>1.983768e-16</td>\n",
       "      <td>2.185107e-16</td>\n",
       "      <td>2.891938e-16</td>\n",
       "      <td>2.299450e-16</td>\n",
       "      <td>2.942365e-16</td>\n",
       "      <td>2.218936e-16</td>\n",
       "      <td>1.820023e-16</td>\n",
       "      <td>3.319306e-16</td>\n",
       "      <td>1.956838e-16</td>\n",
       "      <td>3.595368e-16</td>\n",
       "      <td>3.389513e-16</td>\n",
       "      <td>3.591306e-16</td>\n",
       "      <td>1.861563e-16</td>\n",
       "      <td>1.669970e-16</td>\n",
       "      <td>3.381456e-16</td>\n",
       "      <td>2.502217e-16</td>\n",
       "      <td>2.228896e-16</td>\n",
       "      <td>2.653665e-05</td>\n",
       "    </tr>\n",
       "    <tr>\n",
       "      <th>riegert</th>\n",
       "      <td>0.000000e+00</td>\n",
       "      <td>0.000000e+00</td>\n",
       "      <td>0.000000e+00</td>\n",
       "      <td>0.000000e+00</td>\n",
       "      <td>0.000000e+00</td>\n",
       "      <td>0.000000e+00</td>\n",
       "      <td>0.000000e+00</td>\n",
       "      <td>0.000000e+00</td>\n",
       "      <td>0.000000e+00</td>\n",
       "      <td>1.306698e-16</td>\n",
       "      <td>0.000000e+00</td>\n",
       "      <td>1.161208e-16</td>\n",
       "      <td>1.042892e-16</td>\n",
       "      <td>1.092233e-16</td>\n",
       "      <td>0.000000e+00</td>\n",
       "      <td>0.000000e+00</td>\n",
       "      <td>1.063384e-16</td>\n",
       "      <td>0.000000e+00</td>\n",
       "      <td>7.350645e-06</td>\n",
       "      <td>0.000000e+00</td>\n",
       "    </tr>\n",
       "    <tr>\n",
       "      <th>chiaki</th>\n",
       "      <td>2.480981e-16</td>\n",
       "      <td>1.167174e-16</td>\n",
       "      <td>1.520188e-16</td>\n",
       "      <td>1.681564e-16</td>\n",
       "      <td>4.521512e-16</td>\n",
       "      <td>1.622979e-16</td>\n",
       "      <td>2.269274e-16</td>\n",
       "      <td>1.769442e-16</td>\n",
       "      <td>1.425668e-16</td>\n",
       "      <td>2.553940e-16</td>\n",
       "      <td>2.015362e-16</td>\n",
       "      <td>2.670976e-16</td>\n",
       "      <td>2.607231e-16</td>\n",
       "      <td>2.702327e-16</td>\n",
       "      <td>1.424184e-16</td>\n",
       "      <td>1.281478e-16</td>\n",
       "      <td>2.615364e-16</td>\n",
       "      <td>5.030394e-16</td>\n",
       "      <td>1.837661e-05</td>\n",
       "      <td>1.905194e-16</td>\n",
       "    </tr>\n",
       "    <tr>\n",
       "      <th>coauthor</th>\n",
       "      <td>3.359883e-15</td>\n",
       "      <td>1.995747e-15</td>\n",
       "      <td>2.086241e-15</td>\n",
       "      <td>4.817836e-15</td>\n",
       "      <td>3.648312e-15</td>\n",
       "      <td>2.547986e-15</td>\n",
       "      <td>3.118443e-15</td>\n",
       "      <td>6.654484e-15</td>\n",
       "      <td>2.001289e-15</td>\n",
       "      <td>9.475190e-15</td>\n",
       "      <td>2.125723e-04</td>\n",
       "      <td>4.183263e-15</td>\n",
       "      <td>3.639770e-15</td>\n",
       "      <td>4.062841e-15</td>\n",
       "      <td>2.193691e-15</td>\n",
       "      <td>1.722102e-15</td>\n",
       "      <td>3.504532e-15</td>\n",
       "      <td>8.167367e-15</td>\n",
       "      <td>2.809048e-15</td>\n",
       "      <td>2.725637e-15</td>\n",
       "    </tr>\n",
       "    <tr>\n",
       "      <th>comolli</th>\n",
       "      <td>0.000000e+00</td>\n",
       "      <td>0.000000e+00</td>\n",
       "      <td>0.000000e+00</td>\n",
       "      <td>0.000000e+00</td>\n",
       "      <td>0.000000e+00</td>\n",
       "      <td>0.000000e+00</td>\n",
       "      <td>0.000000e+00</td>\n",
       "      <td>0.000000e+00</td>\n",
       "      <td>0.000000e+00</td>\n",
       "      <td>0.000000e+00</td>\n",
       "      <td>0.000000e+00</td>\n",
       "      <td>2.895699e-06</td>\n",
       "      <td>0.000000e+00</td>\n",
       "      <td>2.860929e-06</td>\n",
       "      <td>0.000000e+00</td>\n",
       "      <td>0.000000e+00</td>\n",
       "      <td>0.000000e+00</td>\n",
       "      <td>0.000000e+00</td>\n",
       "      <td>0.000000e+00</td>\n",
       "      <td>0.000000e+00</td>\n",
       "    </tr>\n",
       "  </tbody>\n",
       "</table>\n",
       "<p>182619 rows × 20 columns</p>\n",
       "</div>"
      ],
      "text/plain": [
       "                            topic_0       topic_1       topic_2       topic_3  \\\n",
       "caddick                0.000000e+00  0.000000e+00  0.000000e+00  0.000000e+00   \n",
       "zunil                  0.000000e+00  0.000000e+00  1.965728e-06  0.000000e+00   \n",
       "lindland               0.000000e+00  0.000000e+00  0.000000e+00  0.000000e+00   \n",
       "hailan                 0.000000e+00  0.000000e+00  0.000000e+00  0.000000e+00   \n",
       "oddlooking             0.000000e+00  0.000000e+00  0.000000e+00  0.000000e+00   \n",
       "...                             ...           ...           ...           ...   \n",
       "schiffbaugesellschaft  2.866260e-16  1.515625e-16  1.983768e-16  2.185107e-16   \n",
       "riegert                0.000000e+00  0.000000e+00  0.000000e+00  0.000000e+00   \n",
       "chiaki                 2.480981e-16  1.167174e-16  1.520188e-16  1.681564e-16   \n",
       "coauthor               3.359883e-15  1.995747e-15  2.086241e-15  4.817836e-15   \n",
       "comolli                0.000000e+00  0.000000e+00  0.000000e+00  0.000000e+00   \n",
       "\n",
       "                            topic_4       topic_5       topic_6       topic_7  \\\n",
       "caddick                2.378758e-06  0.000000e+00  0.000000e+00  0.000000e+00   \n",
       "zunil                  0.000000e+00  0.000000e+00  0.000000e+00  0.000000e+00   \n",
       "lindland               4.757342e-06  0.000000e+00  0.000000e+00  0.000000e+00   \n",
       "hailan                 0.000000e+00  2.358587e-16  0.000000e+00  0.000000e+00   \n",
       "oddlooking             0.000000e+00  0.000000e+00  0.000000e+00  0.000000e+00   \n",
       "...                             ...           ...           ...           ...   \n",
       "schiffbaugesellschaft  2.891938e-16  2.299450e-16  2.942365e-16  2.218936e-16   \n",
       "riegert                0.000000e+00  0.000000e+00  0.000000e+00  0.000000e+00   \n",
       "chiaki                 4.521512e-16  1.622979e-16  2.269274e-16  1.769442e-16   \n",
       "coauthor               3.648312e-15  2.547986e-15  3.118443e-15  6.654484e-15   \n",
       "comolli                0.000000e+00  0.000000e+00  0.000000e+00  0.000000e+00   \n",
       "\n",
       "                            topic_8       topic_9      topic_10      topic_11  \\\n",
       "caddick                0.000000e+00  0.000000e+00  0.000000e+00  2.860630e-06   \n",
       "zunil                  0.000000e+00  0.000000e+00  0.000000e+00  0.000000e+00   \n",
       "lindland               0.000000e+00  0.000000e+00  0.000000e+00  0.000000e+00   \n",
       "hailan                 0.000000e+00  0.000000e+00  0.000000e+00  0.000000e+00   \n",
       "oddlooking             0.000000e+00  0.000000e+00  0.000000e+00  0.000000e+00   \n",
       "...                             ...           ...           ...           ...   \n",
       "schiffbaugesellschaft  1.820023e-16  3.319306e-16  1.956838e-16  3.595368e-16   \n",
       "riegert                0.000000e+00  1.306698e-16  0.000000e+00  1.161208e-16   \n",
       "chiaki                 1.425668e-16  2.553940e-16  2.015362e-16  2.670976e-16   \n",
       "coauthor               2.001289e-15  9.475190e-15  2.125723e-04  4.183263e-15   \n",
       "comolli                0.000000e+00  0.000000e+00  0.000000e+00  2.895699e-06   \n",
       "\n",
       "                           topic_12      topic_13      topic_14      topic_15  \\\n",
       "caddick                0.000000e+00  0.000000e+00  0.000000e+00  0.000000e+00   \n",
       "zunil                  0.000000e+00  0.000000e+00  0.000000e+00  1.089062e-06   \n",
       "lindland               0.000000e+00  0.000000e+00  0.000000e+00  0.000000e+00   \n",
       "hailan                 0.000000e+00  0.000000e+00  0.000000e+00  1.372664e-06   \n",
       "oddlooking             0.000000e+00  0.000000e+00  0.000000e+00  2.745672e-06   \n",
       "...                             ...           ...           ...           ...   \n",
       "schiffbaugesellschaft  3.389513e-16  3.591306e-16  1.861563e-16  1.669970e-16   \n",
       "riegert                1.042892e-16  1.092233e-16  0.000000e+00  0.000000e+00   \n",
       "chiaki                 2.607231e-16  2.702327e-16  1.424184e-16  1.281478e-16   \n",
       "coauthor               3.639770e-15  4.062841e-15  2.193691e-15  1.722102e-15   \n",
       "comolli                0.000000e+00  2.860929e-06  0.000000e+00  0.000000e+00   \n",
       "\n",
       "                           topic_16      topic_17      topic_18      topic_19  \n",
       "caddick                0.000000e+00  0.000000e+00  0.000000e+00  0.000000e+00  \n",
       "zunil                  0.000000e+00  0.000000e+00  0.000000e+00  0.000000e+00  \n",
       "lindland               0.000000e+00  0.000000e+00  0.000000e+00  0.000000e+00  \n",
       "hailan                 0.000000e+00  0.000000e+00  1.837891e-06  0.000000e+00  \n",
       "oddlooking             0.000000e+00  0.000000e+00  0.000000e+00  0.000000e+00  \n",
       "...                             ...           ...           ...           ...  \n",
       "schiffbaugesellschaft  3.381456e-16  2.502217e-16  2.228896e-16  2.653665e-05  \n",
       "riegert                1.063384e-16  0.000000e+00  7.350645e-06  0.000000e+00  \n",
       "chiaki                 2.615364e-16  5.030394e-16  1.837661e-05  1.905194e-16  \n",
       "coauthor               3.504532e-15  8.167367e-15  2.809048e-15  2.725637e-15  \n",
       "comolli                0.000000e+00  0.000000e+00  0.000000e+00  0.000000e+00  \n",
       "\n",
       "[182619 rows x 20 columns]"
      ]
     },
     "execution_count": 21,
     "metadata": {},
     "output_type": "execute_result"
    }
   ],
   "source": [
    "phi"
   ]
  },
  {
   "cell_type": "code",
   "execution_count": 6,
   "metadata": {},
   "outputs": [],
   "source": [
    "model = artm.ARTM(num_topics=20, num_document_passes=5,cache_theta=True,\n",
    "                      scores=[\n",
    "                    artm.PerplexityScore(name='PerplexityScore', dictionary=dictionary),\n",
    "                    artm.SparsityPhiScore(name='SparsityPhiScore'),\n",
    "                    artm.SparsityThetaScore(name='SparsityThetaScore'),\n",
    "                    artm.scores.TopTokensScore(name='TopTokensScore', dictionary=dictionary, num_tokens=20),\n",
    "                    artm.TopicKernelScore(name='TopicKernelScore', probability_mass_threshold=0.3)])\n",
    "model.load('plsa_phi_first')"
   ]
  },
  {
   "cell_type": "code",
   "execution_count": 7,
   "metadata": {},
   "outputs": [],
   "source": [
    "phi = model.get_phi()"
   ]
  },
  {
   "cell_type": "markdown",
   "metadata": {},
   "source": [
    "# K-means"
   ]
  },
  {
   "cell_type": "code",
   "execution_count": 16,
   "metadata": {},
   "outputs": [
    {
     "name": "stderr",
     "output_type": "stream",
     "text": [
      "/home/anirogozina/artm/lib/python3.7/site-packages/ipykernel/ipkernel.py:283: DeprecationWarning: `should_run_async` will not call `transform_cell` automatically in the future. Please pass the result to `transformed_cell` argument and any exception that happen during thetransform in `preprocessing_exc_tuple` in IPython 7.17 and above.\n",
      "  and should_run_async(code)\n"
     ]
    },
    {
     "name": "stdout",
     "output_type": "stream",
     "text": [
      "create clusters\n",
      "create predictions\n",
      "finished validation\n"
     ]
    },
    {
     "ename": "NameError",
     "evalue": "name 'train' is not defined",
     "output_type": "error",
     "traceback": [
      "\u001b[0;31m---------------------------------------------------------------------------\u001b[0m",
      "\u001b[0;31mNameError\u001b[0m                                 Traceback (most recent call last)",
      "\u001b[0;32m<ipython-input-16-43b4e8b5b8bf>\u001b[0m in \u001b[0;36m<module>\u001b[0;34m\u001b[0m\n\u001b[1;32m     23\u001b[0m     \u001b[0mprint\u001b[0m\u001b[0;34m(\u001b[0m\u001b[0;34m'finished validation'\u001b[0m\u001b[0;34m)\u001b[0m\u001b[0;34m\u001b[0m\u001b[0;34m\u001b[0m\u001b[0m\n\u001b[1;32m     24\u001b[0m     \u001b[0mfile\u001b[0m \u001b[0;34m=\u001b[0m \u001b[0mopen\u001b[0m\u001b[0;34m(\u001b[0m\u001b[0;34m'train_k_means'\u001b[0m \u001b[0;34m+\u001b[0m\u001b[0mstr\u001b[0m\u001b[0;34m(\u001b[0m\u001b[0mnum\u001b[0m\u001b[0;34m)\u001b[0m\u001b[0;34m,\u001b[0m \u001b[0;34m\"w\"\u001b[0m\u001b[0;34m)\u001b[0m\u001b[0;34m\u001b[0m\u001b[0;34m\u001b[0m\u001b[0m\n\u001b[0;32m---> 25\u001b[0;31m     \u001b[0;32mfor\u001b[0m \u001b[0mi\u001b[0m\u001b[0;34m,\u001b[0m \u001b[0mdocument\u001b[0m \u001b[0;32min\u001b[0m \u001b[0menumerate\u001b[0m\u001b[0;34m(\u001b[0m\u001b[0mtrain\u001b[0m\u001b[0;34m)\u001b[0m\u001b[0;34m:\u001b[0m\u001b[0;34m\u001b[0m\u001b[0;34m\u001b[0m\u001b[0m\n\u001b[0m\u001b[1;32m     26\u001b[0m         \u001b[0mst\u001b[0m \u001b[0;34m=\u001b[0m \u001b[0;34m\"doc\"\u001b[0m \u001b[0;34m+\u001b[0m \u001b[0mstr\u001b[0m\u001b[0;34m(\u001b[0m\u001b[0mi\u001b[0m\u001b[0;34m)\u001b[0m \u001b[0;34m+\u001b[0m \u001b[0;34m\" |@default_class \"\u001b[0m\u001b[0;34m\u001b[0m\u001b[0;34m\u001b[0m\u001b[0m\n\u001b[1;32m     27\u001b[0m         \u001b[0;32mfor\u001b[0m \u001b[0mword\u001b[0m \u001b[0;32min\u001b[0m \u001b[0mdocument\u001b[0m\u001b[0;34m.\u001b[0m\u001b[0msplit\u001b[0m\u001b[0;34m(\u001b[0m\u001b[0;34m\" \"\u001b[0m\u001b[0;34m)\u001b[0m\u001b[0;34m:\u001b[0m\u001b[0;34m\u001b[0m\u001b[0;34m\u001b[0m\u001b[0m\n",
      "\u001b[0;31mNameError\u001b[0m: name 'train' is not defined"
     ]
    }
   ],
   "source": [
    "num_clusters = [3000, 500, 1000, 1500, 2000, 3000]\n",
    "DEFAULT_TOKEN = 'DEFAULT'\n",
    "for num in num_clusters:\n",
    "    clustering = KMeans(n_clusters=num, random_state=42)\n",
    "    clustering.fit(phi)\n",
    "    print('create clusters')\n",
    "    predictions = clustering.predict(phi)\n",
    "    phi['index' + str(num_clusters)] = predictions\n",
    "    print('create predictions')\n",
    "    file = open('validation_k_means' +str(num), \"w\")\n",
    "    for i, document in enumerate(validation_docs):\n",
    "        st = \"doc\" + str(i) + \" |@default_class \"\n",
    "        for word in document.split(\" \"):\n",
    "            if word in phi.index:\n",
    "                st += str(int(phi.loc[word]['index' + str(num_clusters)]))\n",
    "            else:\n",
    "                st += DEFAULT_TOKEN\n",
    "            st += ' '\n",
    "        st += \" |@label \"\n",
    "        st += str(validation_labels[i])\n",
    "        file.write(st + \"\\n\")\n",
    "    file.close()\n",
    "    print('finished validation')\n",
    "    file = open('train_k_means' +str(num), \"w\")\n",
    "    for i, document in enumerate(train_docs):\n",
    "        st = \"doc\" + str(i) + \" |@default_class \"\n",
    "        for word in document.split(\" \"):\n",
    "            if word in phi.index:\n",
    "                st += str(int(phi.loc[word]['index' + str(num_clusters)]))\n",
    "            else:\n",
    "                st += DEFAULT_TOKEN\n",
    "            st += ' '\n",
    "        st += \" |@label \"\n",
    "        st += str(validation_labels[i])\n",
    "        file.write(st + \"\\n\")\n",
    "    file.close()\n",
    "    "
   ]
  },
  {
   "cell_type": "code",
   "execution_count": 21,
   "metadata": {},
   "outputs": [],
   "source": [
    "file = open('train_k_means' +str(num), \"w\")\n",
    "for i, document in enumerate(train_docs):\n",
    "    st = \"doc\" + str(i) + \" |@default_class \"\n",
    "    for word in document.split(\" \"):\n",
    "        if word in phi.index:\n",
    "            st += str(int(phi.loc[word]['index' + str(num_clusters)]))\n",
    "        else:\n",
    "            st += DEFAULT_TOKEN\n",
    "        st += ' '\n",
    "    st += \" |@label \"\n",
    "    st += str(train_labels[i])\n",
    "    file.write(st + \"\\n\")\n",
    "file.close()"
   ]
  },
  {
   "cell_type": "code",
   "execution_count": 27,
   "metadata": {},
   "outputs": [],
   "source": [
    "new_model_batch_vectorizer = artm.BatchVectorizer(data_path='train_k_means3000',\n",
    "                                        data_format='vowpal_wabbit',\n",
    "                                        target_folder='artm_batches_train_new')"
   ]
  },
  {
   "cell_type": "code",
   "execution_count": 30,
   "metadata": {},
   "outputs": [],
   "source": [
    "new_model_validation_batch_vectoriser = artm.BatchVectorizer(data_path='validation_k_means3000',\n",
    "                                        data_format='vowpal_wabbit',\n",
    "                                        target_folder='artm_batches_validation_new')"
   ]
  },
  {
   "cell_type": "code",
   "execution_count": 28,
   "metadata": {},
   "outputs": [],
   "source": [
    "dictionary = artm.Dictionary()\n",
    "dictionary.gather(data_path='artm_batches_train_new')"
   ]
  },
  {
   "cell_type": "code",
   "execution_count": 29,
   "metadata": {},
   "outputs": [
    {
     "data": {
      "text/plain": [
       "artm.Dictionary(name=ec1fb4c3-119e-4261-95c4-cf1b95d5c55c, num_entries=3001)"
      ]
     },
     "execution_count": 29,
     "metadata": {},
     "output_type": "execute_result"
    }
   ],
   "source": [
    "dictionary"
   ]
  },
  {
   "cell_type": "code",
   "execution_count": 47,
   "metadata": {},
   "outputs": [],
   "source": [
    "import numpy as np"
   ]
  },
  {
   "cell_type": "code",
   "execution_count": 49,
   "metadata": {},
   "outputs": [
    {
     "name": "stderr",
     "output_type": "stream",
     "text": [
      "/home/anirogozina/artm/lib/python3.7/site-packages/ipykernel/ipkernel.py:283: DeprecationWarning: `should_run_async` will not call `transform_cell` automatically in the future. Please pass the result to `transformed_cell` argument and any exception that happen during thetransform in `preprocessing_exc_tuple` in IPython 7.17 and above.\n",
      "  and should_run_async(code)\n"
     ]
    },
    {
     "name": "stdout",
     "output_type": "stream",
     "text": [
      "build modle and thetas\n",
      "Accuracy: 0.8609464285714286, F1(micro): 0.8609464285714286, F1(macro): 0.8596730472513135\n",
      "Accuracy: 0.9022797619047619, F1(micro): 0.9022797619047619, F1(macro): 0.9022476366423892\n",
      "Accuracy: 0.9274702380952381, F1(micro): 0.9274702380952381, F1(macro): 0.9274978579123647\n",
      "Accuracy: 0.9081011904761904, F1(micro): 0.9081011904761904, F1(macro): 0.9080313831350226\n",
      "num_topics 10 accuracy 0.8996994047619047 f1_micro 0.8996994047619047 f1_macro 0.8993624812352725\n"
     ]
    }
   ],
   "source": [
    "model = create_plsa_model(20, 50, new_model_batch_vectorizer)\n",
    "model.regularizers.add(artm.SmoothSparsePhiRegularizer(\n",
    "    name='PhiSmoother', tau=1e-4, dictionary=dictionary))\n",
    "model.fit_offline(batch_vectorizer=new_model_batch_vectorizer, num_collection_passes=30)\n",
    "accuracy, f1_micro, f1_macro = get_scores(\n",
    "    model, train_labels, new_model_validation_batch_vectoriser, validation_labels, classifiers)\n",
    "print(\"num_topics\", num_topics, \"accuracy\", accuracy, \"f1_micro\", f1_micro, \"f1_macro\", f1_macro)"
   ]
  },
  {
   "cell_type": "code",
   "execution_count": 80,
   "metadata": {},
   "outputs": [
    {
     "data": {
      "text/plain": [
       "[<matplotlib.lines.Line2D at 0x7f64f76867b8>]"
      ]
     },
     "execution_count": 80,
     "metadata": {},
     "output_type": "execute_result"
    },
    {
     "data": {
      "image/png": "[encoded data removed]",
      "text/plain": [
       "<Figure size 432x288 with 1 Axes>"
      ]
     },
     "metadata": {
      "needs_background": "light"
     },
     "output_type": "display_data"
    }
   ],
   "source": [
    "plt.plot(phi.groupby('index').count()['topic_0'])"
   ]
  },
  {
   "cell_type": "code",
   "execution_count": null,
   "metadata": {},
   "outputs": [],
   "source": []
  }
 ],
 "metadata": {
  "kernelspec": {
   "display_name": "artm",
   "language": "python",
   "name": "artm"
  },
  "language_info": {
   "codemirror_mode": {
    "name": "ipython",
    "version": 3
   },
   "file_extension": ".py",
   "mimetype": "text/x-python",
   "name": "python",
   "nbconvert_exporter": "python",
   "pygments_lexer": "ipython3",
   "version": "3.7.3"
  }
 },
 "nbformat": 4,
 "nbformat_minor": 2
}
